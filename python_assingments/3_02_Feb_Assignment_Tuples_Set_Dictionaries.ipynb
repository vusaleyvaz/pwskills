{
  "nbformat": 4,
  "nbformat_minor": 0,
  "metadata": {
    "colab": {
      "provenance": []
    },
    "kernelspec": {
      "name": "python3",
      "display_name": "Python 3"
    },
    "language_info": {
      "name": "python"
    }
  },
  "cells": [
    {
      "cell_type": "markdown",
      "source": [
        "### Question 1 \n",
        "What are the characteristics of the tuples? Is tuple immutable?\n",
        "\n",
        "\n"
      ],
      "metadata": {
        "id": "qb04AF6FWpzF"
      }
    },
    {
      "cell_type": "markdown",
      "source": [
        "Q1 Answer: \n",
        "\n",
        "The main characteristics of the tuples are:\n",
        "\n",
        "1. Immutable: Once a tuple is created, its values cannot be changed or modified.\n",
        "2. Ordered: The order of the elements in a tuple is fixed and can be accessed using the index number.\n",
        "3. Heterogeneous: Tuples can contain elements of different data types."
      ],
      "metadata": {
        "id": "6mik9s7Dt_YC"
      }
    },
    {
      "cell_type": "markdown",
      "source": [
        "### Question 2 \n",
        "What are the two tuple methods in python? Give an example of each method. Give a reason why tuples have only two in-built methods as compared to Lists.\n",
        "\n"
      ],
      "metadata": {
        "id": "8EayKjqaWvNU"
      }
    },
    {
      "cell_type": "markdown",
      "source": [
        "Q2 Answer:\n",
        "\n",
        "There are two in-built methods for tuples in Python:\n",
        "\n",
        "1. `count()` method: The `count()` method returns the number of times a specific value appears in a tuple.\n",
        "\n",
        "2. `index()` method: The `index()` method returns the index of the first occurrence of a specific value in a tuple. \n",
        "\n",
        "Tuples have only two in-built methods as compared to lists because tuples are immutable, and their main purpose is to store and retrieve values. Lists, on the other hand, are mutable and provide a more extensive set of in-built methods, such as sort(), append(), remove(), ...., to perform more complex operations."
      ],
      "metadata": {
        "id": "z6y32txCuFwE"
      }
    },
    {
      "cell_type": "markdown",
      "source": [
        "### Question 3\n",
        "Which collection datatypes in python do not allow duplicate items? Write a code using a set to remove duplicates from the given list.\n",
        "List = [1, 1, 1, 2, 1, 3, 1, 4, 2, 1, 2, 2, 2, 3, 2, 4, 3, 1, 3, 2, 3, 3, 3, 4, 4, 1, 4, 2, 4, 3, 4, 4]\n"
      ],
      "metadata": {
        "id": "qXkLQsBwW4zK"
      }
    },
    {
      "cell_type": "markdown",
      "source": [
        "Q3 Answer:\n",
        "\n",
        "Set and dictionary collection  data types that do not allow duplicate items. The code to remove duplicates from a given list using a set:"
      ],
      "metadata": {
        "id": "8jxalTc1uXMn"
      }
    },
    {
      "cell_type": "code",
      "source": [
        "# Given list\n",
        "List = [1, 1, 1, 2, 1, 3, 1, 4, 2, 1, 2, 2, 2, 3, 2, 4, 3, 1, 3, 2, 3, 3, 3, 4, 4, 1, 4, 2, 4, 3, 4, 4]\n",
        "\n",
        "# Creating a set to store unique elements\n",
        "uni_el_set = set(List)\n",
        "\n",
        "# Converting the set back to a list\n",
        "uni_list = list(uni_el_set)\n",
        "\n",
        "# Printing the unique list\n",
        "print(uni_list)"
      ],
      "metadata": {
        "colab": {
          "base_uri": "https://localhost:8080/"
        },
        "id": "IjWtpibzuN5c",
        "outputId": "110b5c67-876f-4fa0-9892-60f60727f1f3"
      },
      "execution_count": 2,
      "outputs": [
        {
          "output_type": "stream",
          "name": "stdout",
          "text": [
            "[1, 2, 3, 4]\n"
          ]
        }
      ]
    },
    {
      "cell_type": "markdown",
      "source": [
        "### Question 4\n",
        "Explain the difference between the `union()`and `update()` methods for a set. Give an example of each method.\n"
      ],
      "metadata": {
        "id": "-XRzftgnW0RP"
      }
    },
    {
      "cell_type": "markdown",
      "source": [
        "Q4 Answer:\n",
        "\n",
        "The `union()` and `update()` methods are used to merge two sets in Python. However, there is a subtle difference between the two methods:\n",
        "\n",
        "* `union()` method: The `union()` method returns a new set that contains all the elements from both sets, without any duplicates. The original sets remain unchanged.\n",
        "\n",
        "* `update()` method: The `update()` method modifies the first set to include all the elements from the second set. The original first set is changed."
      ],
      "metadata": {
        "id": "QZdzIaJtv7jo"
      }
    },
    {
      "cell_type": "code",
      "source": [
        "#Example for union method:\n",
        "\n",
        "set1 = {1, 2, 3, 4}\n",
        "set2 = {3, 4, 5, 6}\n",
        "\n",
        "# Using union() method to merge the two sets and create new set\n",
        "union_set = set1.union(set2)\n",
        "\n",
        "print(union_set)"
      ],
      "metadata": {
        "colab": {
          "base_uri": "https://localhost:8080/"
        },
        "id": "pI2hRBNavVxk",
        "outputId": "a4470759-258a-4af6-95ae-da87c11d917b"
      },
      "execution_count": 9,
      "outputs": [
        {
          "output_type": "stream",
          "name": "stdout",
          "text": [
            "{1, 2, 3, 4, 5, 6}\n"
          ]
        }
      ]
    },
    {
      "cell_type": "code",
      "source": [
        "#Example for update method:\n",
        "\n",
        "set1 = {1, 2, 3, 4}\n",
        "set2 = {3, 4, 5, 6}\n",
        "\n",
        "# Using update() method to update the set1\n",
        "set1.update(set2)\n",
        "\n",
        "print(set1)"
      ],
      "metadata": {
        "colab": {
          "base_uri": "https://localhost:8080/"
        },
        "id": "c57rabvIxCnT",
        "outputId": "418340bb-ba0a-465c-a614-cd96e0a18438"
      },
      "execution_count": 10,
      "outputs": [
        {
          "output_type": "stream",
          "name": "stdout",
          "text": [
            "{1, 2, 3, 4, 5, 6}\n"
          ]
        }
      ]
    },
    {
      "cell_type": "markdown",
      "source": [
        "### Question 5\n",
        "What is a dictionary? Give an example. Also, state whether a dictionary is ordered or unordered."
      ],
      "metadata": {
        "id": "hFIS1GawXEpc"
      }
    },
    {
      "cell_type": "markdown",
      "source": [
        "Q5 Answer:\n",
        "\n",
        "Dictionary is an unordered collection of key-value pairs, where each key is unique and associated with a value. Dictionaries are used to store and retrieve values based on their keys.\n",
        "\n",
        "Dictionaries are unordered, which means the elements in a dictionary are not stored in a specific order. The order of elements in a dictionary may change, and it may not always be the same as the order in which the elements were added to the dictionary."
      ],
      "metadata": {
        "id": "IKR8FDaW0FgF"
      }
    },
    {
      "cell_type": "code",
      "source": [
        "# Example of simple dictionary:\n",
        "person = {\n",
        "    \"name\": \"Vusal Eyvazov\",\n",
        "    \"age\": 35,\n",
        "    \"country\": \"Azerbaijan\"\n",
        "}\n",
        "\n",
        "# Printing the dictionary\n",
        "print(person) \n",
        "\n",
        "# Accessing values using keys\n",
        "print(person[\"name\"])\n"
      ],
      "metadata": {
        "colab": {
          "base_uri": "https://localhost:8080/"
        },
        "id": "VOz-8ynV1EzI",
        "outputId": "bf82f934-0d52-4aba-ebc5-51b10c0d6c28"
      },
      "execution_count": 11,
      "outputs": [
        {
          "output_type": "stream",
          "name": "stdout",
          "text": [
            "{'name': 'Vusal Eyvazov', 'age': 35, 'country': 'Azerbaijan'}\n",
            "Vusal Eyvazov\n"
          ]
        }
      ]
    },
    {
      "cell_type": "markdown",
      "source": [
        "### Question 6\n",
        "Can we create a nested dictionary? If so, please give an example by creating a simple one-level nested dictionary.\n"
      ],
      "metadata": {
        "id": "lp9O_MhhXG1E"
      }
    },
    {
      "cell_type": "markdown",
      "source": [
        "Q6 Answer:\n",
        "\n",
        "Yes, it is possible to create a nested dictionary which allows to store more complex data structures in a single dictionary."
      ],
      "metadata": {
        "id": "Xh-YtzOI1w2u"
      }
    },
    {
      "cell_type": "code",
      "source": [
        "# Example of nested dictionary\n",
        "person = {\n",
        "    \"personal_info\": {\n",
        "        \"name\": \"Vusal Eyvazov\",\n",
        "        \"age\": 35,\n",
        "        \"country\": \"Azerbaijan\"\n",
        "    },\n",
        "    \"professional_info\": {\n",
        "        \"occupation\": \"engineer\",\n",
        "        \"company\": \"XYZ\"\n",
        "    }\n",
        "}\n",
        "\n",
        "# Printing the dictionary\n",
        "print(person)\n",
        "\n",
        "# Accessing values using keys\n",
        "print(person[\"personal_info\"][\"name\"])"
      ],
      "metadata": {
        "colab": {
          "base_uri": "https://localhost:8080/"
        },
        "id": "1KNYurLt2mQ6",
        "outputId": "32ae0636-7c87-4a89-de85-5b1ec06336fe"
      },
      "execution_count": 13,
      "outputs": [
        {
          "output_type": "stream",
          "name": "stdout",
          "text": [
            "{'personal_info': {'name': 'Vusal Eyvazov', 'age': 35, 'country': 'Azerbaijan'}, 'professional_info': {'occupation': 'engineer', 'company': 'XYZ'}}\n",
            "Vusal Eyvazov\n"
          ]
        }
      ]
    },
    {
      "cell_type": "markdown",
      "source": [
        "### Question 7\n",
        "Using `setdefault()` method, create key named topics in the given dictionary and also add the value of the key as this list: `['Python', 'Machine Learning’, 'Deep Learning']`\n",
        "\n",
        "`dict1 = {'language' : 'Python', 'course': 'Data Science Masters'}`\n"
      ],
      "metadata": {
        "id": "F3GBXjxXXJuS"
      }
    },
    {
      "cell_type": "markdown",
      "source": [
        "Question 7 Answer:"
      ],
      "metadata": {
        "id": "7jAVm04O7T8H"
      }
    },
    {
      "cell_type": "code",
      "source": [
        "dict1 = {'language' : 'Python', 'course': 'Data Science Masters'}\n",
        "\n",
        "# Using setdefault() method to add a new key-value pair\n",
        "dict1.setdefault('topics', ['Python', 'Machine Learning', 'Deep Learning'])\n",
        "\n",
        "print(dict1)"
      ],
      "metadata": {
        "colab": {
          "base_uri": "https://localhost:8080/"
        },
        "id": "x28M4zdg3q2d",
        "outputId": "bf5d9de5-a775-4ad4-fdd5-1c674d90e92e"
      },
      "execution_count": 14,
      "outputs": [
        {
          "output_type": "stream",
          "name": "stdout",
          "text": [
            "{'language': 'Python', 'course': 'Data Science Masters', 'topics': ['Python', 'Machine Learning', 'Deep Learning']}\n"
          ]
        }
      ]
    },
    {
      "cell_type": "markdown",
      "source": [
        "###Question 8\n",
        "What are the three view objects in dictionaries? Use the three in-built methods in python to display these three view objects for the given dictionary.\n",
        "\n",
        "`dict1 = {'Sport': 'Cricket' , 'Teams': ['India', 'Australia', 'England', 'South Africa', 'Sri Lanka', 'New Zealand']}`"
      ],
      "metadata": {
        "id": "vZE9lQupXd8P"
      }
    },
    {
      "cell_type": "markdown",
      "source": [
        "Question 8 Answer:\n",
        "\n",
        "Dictionaries have three view objects:` keys()`, `values()`, and `items()`. "
      ],
      "metadata": {
        "id": "2qqUbfKi7OfB"
      }
    },
    {
      "cell_type": "code",
      "source": [
        "# Defining a dictionary\n",
        "dict1 = {'Sport': 'Cricket' , 'Teams': ['India', 'Australia', 'England', 'South Africa', 'Sri Lanka', 'New Zealand']}\n",
        "\n",
        "# Using keys() method to display keys in the dictionary\n",
        "print(\"Keys in the dictionary:\", dict1.keys())\n",
        "\n",
        "# Using values() method to display values in the dictionary\n",
        "print(\"Values in the dictionary:\", dict1.values())\n",
        "\n",
        "# Using items() method to display items in the dictionary\n",
        "print(\"Items in the dictionary:\", dict1.items())"
      ],
      "metadata": {
        "colab": {
          "base_uri": "https://localhost:8080/"
        },
        "id": "IC5CiWPp7eyD",
        "outputId": "cc8d4b5d-429e-4827-9ec0-214046e692f0"
      },
      "execution_count": 15,
      "outputs": [
        {
          "output_type": "stream",
          "name": "stdout",
          "text": [
            "Keys in the dictionary: dict_keys(['Sport', 'Teams'])\n",
            "Values in the dictionary: dict_values(['Cricket', ['India', 'Australia', 'England', 'South Africa', 'Sri Lanka', 'New Zealand']])\n",
            "Items in the dictionary: dict_items([('Sport', 'Cricket'), ('Teams', ['India', 'Australia', 'England', 'South Africa', 'Sri Lanka', 'New Zealand'])])\n"
          ]
        }
      ]
    }
  ]
}