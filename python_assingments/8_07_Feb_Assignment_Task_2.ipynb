{
  "nbformat": 4,
  "nbformat_minor": 0,
  "metadata": {
    "colab": {
      "provenance": []
    },
    "kernelspec": {
      "name": "python3",
      "display_name": "Python 3"
    },
    "language_info": {
      "name": "python"
    }
  },
  "cells": [
    {
      "cell_type": "markdown",
      "source": [
        "### Question 1\n",
        "You are writing code for a company. The requirement of the company is that you create a python function that will check whether the password entered by the user is correct or not. The function should take the password as input and return the string “Valid Password” if the entered password follows the below-given password guidelines else it should return “Invalid Password”.\n",
        " \n",
        "1. The Password should contain at least two uppercase letters and at least two lowercase letters.\n",
        "2. The Password should contain at least a number and three special characters.\n",
        "3. The length of the password should be 10 characters long.\n"
      ],
      "metadata": {
        "id": "5XI9UjwUmA3x"
      }
    },
    {
      "cell_type": "markdown",
      "source": [
        "Q1 Answer:"
      ],
      "metadata": {
        "id": "Zc70_vN6tD4s"
      }
    },
    {
      "cell_type": "code",
      "execution_count": 1,
      "metadata": {
        "id": "M_P4V074gHPP"
      },
      "outputs": [],
      "source": [
        "def password_validator(password):\n",
        "  # Check if the password contains at least two uppercase letters.\n",
        "  if len([c for c in password if c.isupper()]) < 2:\n",
        "    return \"Invalid Password\"\n",
        "\n",
        "  # Check if the password contains at least two lowercase letters.\n",
        "  if len([c for c in password if c.islower()]) < 2:\n",
        "    return \"Invalid Password\"\n",
        "\n",
        "  # Check if the password contains at least a number.\n",
        "  if not any(c.isdigit() for c in password):\n",
        "    return \"Invalid Password\"\n",
        "\n",
        "  # Check if the password contains at least three special characters.\n",
        "  if len([c for c in password if not c.isalnum()]) < 3:\n",
        "    return \"Invalid Password\"\n",
        "\n",
        "  # Check if the password is 10 characters long.\n",
        "  if len(password) != 10:\n",
        "    return \"Invalid Password\"\n",
        "\n",
        "  # If all the conditions are met, return \"Valid Password\".\n",
        "  return \"Valid Password\""
      ]
    },
    {
      "cell_type": "code",
      "source": [
        "password = input(\"Enter your password: \")\n",
        "result = password_validator(password)\n",
        "print(result)"
      ],
      "metadata": {
        "colab": {
          "base_uri": "https://localhost:8080/"
        },
        "id": "-jnFdlxisJ14",
        "outputId": "f581c726-2a50-4603-c02a-05cf05442889"
      },
      "execution_count": 11,
      "outputs": [
        {
          "output_type": "stream",
          "name": "stdout",
          "text": [
            "Enter your password: #Der$^sH12\n",
            "Valid Password\n"
          ]
        }
      ]
    },
    {
      "cell_type": "markdown",
      "source": [
        "### Question 2\n",
        "\n",
        "Solve the below-given questions using at least one of the following:\n",
        "1. Lambda function\n",
        "2. Filter function\n",
        "3. Map function\n",
        "4. List Comprehension\n",
        "\n",
        "* Check if the string starts with a particular letter.\n",
        "* Check if the string is numeric.\n",
        "* Sort a list of tuples having fruit names and their quantity. `[(\"mango\",99),(\"orange\",80), (\"grapes\", 1000)]`\n",
        "* Find the squares of numbers from 1 to 10.\n",
        "* Find the cube root of numbers from 1 to 10.\n",
        "* Check if a given number is even.\n",
        "* Filter odd numbers from the given list. `[1,2,3,4,5,6,7,8,9,10]`\n",
        "* Sort a list of integers into positive and negative integers lists. `[1,2,3,4,5,6,-1,-2,-3,-4,-5,0]`"
      ],
      "metadata": {
        "id": "XQX_KmGMtBL5"
      }
    },
    {
      "cell_type": "markdown",
      "source": [
        "Q2 Answer:"
      ],
      "metadata": {
        "id": "5kLZm-CivpYr"
      }
    },
    {
      "cell_type": "code",
      "source": [
        "# Check if the string starts with a particular letter.\n",
        "strings = ['apple', 'banana', 'cherry', 'strawberry', 'blueberry']\n",
        "letter = 'b'\n",
        "\n",
        "#use list comprehension\n",
        "starts_with_letter = [string for string in strings if string.startswith(letter)]\n",
        "print(starts_with_letter)"
      ],
      "metadata": {
        "colab": {
          "base_uri": "https://localhost:8080/"
        },
        "id": "zm605-RavnON",
        "outputId": "0d00fac2-e5da-45f1-9c9b-27d186b0727d"
      },
      "execution_count": 3,
      "outputs": [
        {
          "output_type": "stream",
          "name": "stdout",
          "text": [
            "['banana', 'blueberry']\n"
          ]
        }
      ]
    },
    {
      "cell_type": "code",
      "source": [
        "#Check if the string is numeric.\n",
        "strings = ['123', 'abc', '45.6', '789', 'xyz']\n",
        "\n",
        "#use list comprehension\n",
        "numeric_strings = list(filter(lambda x: x.isnumeric(), strings))\n",
        "print(numeric_strings)"
      ],
      "metadata": {
        "colab": {
          "base_uri": "https://localhost:8080/"
        },
        "id": "D_xAQfh8wRsr",
        "outputId": "65a03188-2027-4c11-f779-f08feb7b1545"
      },
      "execution_count": 4,
      "outputs": [
        {
          "output_type": "stream",
          "name": "stdout",
          "text": [
            "['123', '789']\n"
          ]
        }
      ]
    },
    {
      "cell_type": "code",
      "source": [
        "#Sort a list of tuples having fruit names and their quantity.\n",
        "fruits = [(\"mango\", 99), (\"orange\", 80), (\"grapes\", 1000)]\n",
        "\n",
        "#use lambda function and sort fruits based on their quantity\n",
        "sorted_fruits = sorted(fruits, key=lambda x: x[1])\n",
        "print(sorted_fruits)"
      ],
      "metadata": {
        "colab": {
          "base_uri": "https://localhost:8080/"
        },
        "id": "tv-fw1IfwYv6",
        "outputId": "0b6e5df2-9dab-450f-936b-5015eb2db5b5"
      },
      "execution_count": 5,
      "outputs": [
        {
          "output_type": "stream",
          "name": "stdout",
          "text": [
            "[('orange', 80), ('mango', 99), ('grapes', 1000)]\n"
          ]
        }
      ]
    },
    {
      "cell_type": "code",
      "source": [
        "#Find the squares of numbers from 1 to 10\n",
        "squares = [x ** 2 for x in range(1, 11)]\n",
        "print(squares)"
      ],
      "metadata": {
        "colab": {
          "base_uri": "https://localhost:8080/"
        },
        "id": "ndGJyIWBwrVD",
        "outputId": "c1a07f2f-f6dd-4ea1-d848-c4db6b8de226"
      },
      "execution_count": 6,
      "outputs": [
        {
          "output_type": "stream",
          "name": "stdout",
          "text": [
            "[1, 4, 9, 16, 25, 36, 49, 64, 81, 100]\n"
          ]
        }
      ]
    },
    {
      "cell_type": "code",
      "source": [
        "#Find the cube root of numbers from 1 to 10.\n",
        "numbers = range(1, 11)\n",
        "\n",
        "#use map and lambda functions\n",
        "cube_roots = list(map(lambda x: x ** (1/3), numbers))\n",
        "print(cube_roots)"
      ],
      "metadata": {
        "colab": {
          "base_uri": "https://localhost:8080/"
        },
        "id": "FDUVcR_4zc2N",
        "outputId": "a76be483-b1b7-440a-88c5-d7275c2614b0"
      },
      "execution_count": 7,
      "outputs": [
        {
          "output_type": "stream",
          "name": "stdout",
          "text": [
            "[1.0, 1.2599210498948732, 1.4422495703074083, 1.5874010519681994, 1.7099759466766968, 1.8171205928321397, 1.912931182772389, 2.0, 2.080083823051904, 2.154434690031884]\n"
          ]
        }
      ]
    },
    {
      "cell_type": "code",
      "source": [
        "#Check if a given number is even.\n",
        "numbers = [1, 2, 3, 4, 5, 6, 7, 8, 9, 10]\n",
        "\n",
        "#use lambda and filter fucntions\n",
        "even_numbers = list(filter(lambda x: x % 2 == 0, numbers))\n",
        "print(even_numbers)"
      ],
      "metadata": {
        "colab": {
          "base_uri": "https://localhost:8080/"
        },
        "id": "PAD5AGhMzsDT",
        "outputId": "59ce8862-a1d8-4e06-ed0d-c6f515a99399"
      },
      "execution_count": 8,
      "outputs": [
        {
          "output_type": "stream",
          "name": "stdout",
          "text": [
            "[2, 4, 6, 8, 10]\n"
          ]
        }
      ]
    },
    {
      "cell_type": "code",
      "source": [
        "#Filter odd numbers from the given list.\n",
        "numbers = [1, 2, 3, 4, 5, 6, 7, 8, 9, 10]\n",
        "\n",
        "#use lambda and filter fucntions\n",
        "odd_numbers = list(filter(lambda x: x % 2 != 0, numbers))\n",
        "print(odd_numbers)"
      ],
      "metadata": {
        "colab": {
          "base_uri": "https://localhost:8080/"
        },
        "id": "mACO0gf80c6o",
        "outputId": "03e9c034-977c-40b1-f3f7-82c35d247701"
      },
      "execution_count": 9,
      "outputs": [
        {
          "output_type": "stream",
          "name": "stdout",
          "text": [
            "[1, 3, 5, 7, 9]\n"
          ]
        }
      ]
    },
    {
      "cell_type": "code",
      "source": [
        "#Sort a list of integers into positive and negative integers lists.\n",
        "numbers = [1, 2, 3, 4, 5, 6, -1, -2, -3, -4, -5, 0]\n",
        "\n",
        "#use list comprehension\n",
        "positive_numbers = [num for num in numbers if num > 0]\n",
        "negative_numbers = [num for num in numbers if num < 0]\n",
        "\n",
        "print(\"Positive Numbers:\", positive_numbers)\n",
        "print(\"Negative Numbers:\", negative_numbers)"
      ],
      "metadata": {
        "colab": {
          "base_uri": "https://localhost:8080/"
        },
        "id": "x2OkU0Mf0mYg",
        "outputId": "233c6e66-1eb0-4eec-87dd-a3c8107351ad"
      },
      "execution_count": 10,
      "outputs": [
        {
          "output_type": "stream",
          "name": "stdout",
          "text": [
            "Positive Numbers: [1, 2, 3, 4, 5, 6]\n",
            "Negative Numbers: [-1, -2, -3, -4, -5]\n"
          ]
        }
      ]
    }
  ]
}