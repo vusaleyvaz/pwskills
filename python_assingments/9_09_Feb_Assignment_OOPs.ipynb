{
  "nbformat": 4,
  "nbformat_minor": 0,
  "metadata": {
    "colab": {
      "provenance": []
    },
    "kernelspec": {
      "name": "python3",
      "display_name": "Python 3"
    },
    "language_info": {
      "name": "python"
    }
  },
  "cells": [
    {
      "cell_type": "markdown",
      "source": [
        "### Question 1\n",
        "\n",
        "Create a vehicle class with an init method having instance variables as `name_of_vehicle`, `max_speed`\n",
        "and `average_of_vehicle`."
      ],
      "metadata": {
        "id": "GYtGvMmp32gI"
      }
    },
    {
      "cell_type": "markdown",
      "source": [
        "Q1 Answer:"
      ],
      "metadata": {
        "id": "xkGl0j5rrlni"
      }
    },
    {
      "cell_type": "code",
      "source": [
        "class Vehicle:\n",
        "    def __init__(self, name_of_vehicle, max_speed, average_of_vehicle):\n",
        "        self.name_of_vehicle = name_of_vehicle\n",
        "        self.max_speed = max_speed\n",
        "        self.average_of_vehicle = average_of_vehicle"
      ],
      "metadata": {
        "id": "Sp-OyQSR7ogB"
      },
      "execution_count": null,
      "outputs": []
    },
    {
      "cell_type": "markdown",
      "source": [
        "### Question 2\n",
        "\n",
        "Create a child class car from the vehicle class created in Question 1, which will inherit the vehicle class.\n",
        "Create a method named `seating_capacity` which takes capacity as an argument and returns the name of\n",
        "the vehicle and its seating capacity."
      ],
      "metadata": {
        "id": "3TVsX1uosQJG"
      }
    },
    {
      "cell_type": "markdown",
      "source": [
        "Q2 Answer:"
      ],
      "metadata": {
        "id": "ucAKDtcovL9_"
      }
    },
    {
      "cell_type": "code",
      "source": [
        "class Car(Vehicle):\n",
        "    def __init__(self, name_of_vehicle, max_speed, average_of_vehicle):\n",
        "        super().__init__(name_of_vehicle, max_speed, average_of_vehicle)\n",
        "\n",
        "    def seating_capacity(self, capacity):\n",
        "        return f\"{self.name_of_vehicle} has a seating capacity of {capacity} passengers.\""
      ],
      "metadata": {
        "id": "fn6M2O33tTPv"
      },
      "execution_count": null,
      "outputs": []
    },
    {
      "cell_type": "code",
      "source": [
        "#example:\n",
        "\n",
        "# Create a car object\n",
        "car = Car(\"BMW\", 240, 30)\n",
        "\n",
        "# Calling the seating_capacity method\n",
        "print(car.seating_capacity(5))"
      ],
      "metadata": {
        "colab": {
          "base_uri": "https://localhost:8080/"
        },
        "id": "xQi0YEWfuSvZ",
        "outputId": "d5515661-6abc-412a-d64c-8dd81a28348c"
      },
      "execution_count": null,
      "outputs": [
        {
          "output_type": "stream",
          "name": "stdout",
          "text": [
            "BMW has a seating capacity of 5 passengers.\n"
          ]
        }
      ]
    },
    {
      "cell_type": "markdown",
      "source": [
        "### Question 3\n",
        "\n",
        "What is multiple inheritance? Write a python code to demonstrate multiple inheritance."
      ],
      "metadata": {
        "id": "ROi2YkLyz8Wr"
      }
    },
    {
      "cell_type": "markdown",
      "source": [
        "Q3 Answer:\n",
        "\n",
        "Multiple inheritance is a feature in object-oriented programming where a class can inherit attributes and behaviors from multiple parent classes. This means that the derived class can inherit the properties and methods of all of its base classes.\n",
        "\n"
      ],
      "metadata": {
        "id": "MVMeRf8m0DfL"
      }
    },
    {
      "cell_type": "code",
      "source": [
        "#Example:\n",
        "\n",
        "class Animal:\n",
        "    def __init__(self, species, sound):\n",
        "        self.species = species\n",
        "        self.sound = sound\n",
        "\n",
        "    def make_sound(self):\n",
        "        print(f\"{self.species} makes a sound: {self.sound}\")\n",
        "\n",
        "class Trait:\n",
        "    def __init__(self, characteristic):\n",
        "        self.characteristic = characteristic\n",
        "\n",
        "    def display_characteristic(self):\n",
        "        print(f\"Characteristic: {self.characteristic}\")\n",
        "\n",
        "class Cat(Animal, Trait):\n",
        "    def __init__(self, species, sound, characteristic, name):\n",
        "        Animal.__init__(self, species, sound)\n",
        "        Trait.__init__(self, characteristic)\n",
        "        self.name = name\n",
        "\n",
        "    def display_info(self):\n",
        "        print(f\"Name: {self.name}, Species: {self.species}, Sound: {self.sound}\")\n",
        "\n",
        "# Creating a Cat object and using multiple inheritance\n",
        "my_cat = Cat(\"Domestic Cat\", \"Meow\", \"Fluffy fur\", \"Whiskers\")\n",
        "\n",
        "# Accessing methods from both Animal and Trait classes\n",
        "my_cat.display_info()\n",
        "my_cat.make_sound()\n",
        "my_cat.display_characteristic()"
      ],
      "metadata": {
        "colab": {
          "base_uri": "https://localhost:8080/"
        },
        "id": "eWC_gahl1Kas",
        "outputId": "7fd03632-cfbb-41a6-bf6a-19252b8fe10f"
      },
      "execution_count": null,
      "outputs": [
        {
          "output_type": "stream",
          "name": "stdout",
          "text": [
            "Name: Whiskers, Species: Domestic Cat, Sound: Meow\n",
            "Domestic Cat makes a sound: Meow\n",
            "Characteristic: Fluffy fur\n"
          ]
        }
      ]
    },
    {
      "cell_type": "markdown",
      "source": [
        "### Question 4\n",
        "\n",
        "What are getter and setter in python? Create a class and create a getter and a setter method in this class."
      ],
      "metadata": {
        "id": "P4OJMK7O5XKa"
      }
    },
    {
      "cell_type": "markdown",
      "source": [
        "Q4 Answer:\n",
        "\n",
        "In Python, getter and setter methods are used to access and modify the attributes of a class in a controlled way. They allow you to encapsulate the internal state of the class and provide a public interface for accessing and updating the attributes. This is useful because it allows you to validate and control the values that are assigned to the attributes.\n",
        "\n",
        "we can use the `property` decorator and the `@name.setter` decorator to create getter and setter methods in a more concise and Pythonic way. Here's the example using these decorators:"
      ],
      "metadata": {
        "id": "LI7hcDx55fHA"
      }
    },
    {
      "cell_type": "code",
      "source": [
        "class Person:\n",
        "    def __init__(self, name, age):\n",
        "        self._name = name  # Private attribute with underscore convention\n",
        "        self._age = age    # Private attribute with underscore convention\n",
        "\n",
        "    @property\n",
        "    def name(self):\n",
        "        return self._name\n",
        "\n",
        "    @name.setter\n",
        "    def name(self, name):\n",
        "        self._name = name\n",
        "\n",
        "    @property\n",
        "    def age(self):\n",
        "        return self._age\n",
        "\n",
        "    @age.setter\n",
        "    def age(self, age):\n",
        "        if age >= 0:\n",
        "            self._age = age\n",
        "        else:\n",
        "            print(\"Age cannot be negative. Setting age to 0.\")\n",
        "            self._age = 0\n",
        "\n",
        "# Creating an instance of the Person class\n",
        "person = Person(\"Alice\", 30)\n",
        "\n",
        "# Using the getter method to access the 'name' attribute\n",
        "print(person.name)\n",
        "\n",
        "# Using the getter method to access the 'age' attribute\n",
        "print(person.age)\n",
        "\n",
        "# Using the setter method to change the 'name' attribute\n",
        "person.name = \"Bob\"\n",
        "print(person.name)\n",
        "\n",
        "# Using the setter method to change the 'age' attribute\n",
        "person.age = 25\n",
        "print(person.age)\n",
        "\n",
        "# Trying to set an invalid (negative) 'age'\n",
        "person.age = -5\n",
        "print(person.age)"
      ],
      "metadata": {
        "colab": {
          "base_uri": "https://localhost:8080/"
        },
        "id": "0GFS4wv_5y-j",
        "outputId": "4f78f6ca-6950-4d3e-9c80-46ced294ebc0"
      },
      "execution_count": null,
      "outputs": [
        {
          "output_type": "stream",
          "name": "stdout",
          "text": [
            "Alice\n",
            "30\n",
            "Bob\n",
            "25\n",
            "Age cannot be negative. Setting age to 0.\n",
            "0\n"
          ]
        }
      ]
    },
    {
      "cell_type": "markdown",
      "source": [
        "### Question 5\n",
        "\n",
        "What is method overriding in python? Write a python code to demonstrate method overriding."
      ],
      "metadata": {
        "id": "IRu8kL3UEnqb"
      }
    },
    {
      "cell_type": "markdown",
      "source": [
        "Q5 Answer:\n",
        "\n",
        "Method overriding is a fundamental aspect of object-oriented programming where a subclass has the ability to present an alternative implementation of a method that is already present in its superclass. The primary purpose of method overriding is to modify the behavior of a method or introduce new functionalities.\n",
        "\n",
        "In Python, method overriding is achieved by defining a method in the subclass with the identical name, parameters, and return type as the method in its superclass. Consequently, when an object of the subclass is instantiated, the overridden method in the subclass takes precedence over the method in the superclass, effectively replacing its behavior."
      ],
      "metadata": {
        "id": "2SsHkDXwFPiL"
      }
    },
    {
      "cell_type": "code",
      "source": [
        "class Shape:\n",
        "    def area(self):\n",
        "        return \"The area of a shape is not defined\"\n",
        "\n",
        "class Square(Shape):\n",
        "    def area(self):\n",
        "        side = 5\n",
        "        area = side * side\n",
        "        return \"The area of a square is \" + str(area)\n",
        "\n",
        "class Circle(Shape):\n",
        "    def area(self):\n",
        "        radius = 3\n",
        "        area = 3.14 * radius * radius\n",
        "        return \"The area of a circle is \"+ str(area)\n",
        "\n",
        "shape = Shape()\n",
        "print(shape.area())\n",
        "\n",
        "square = Square()\n",
        "print(square.area())\n",
        "\n",
        "circle = Circle()\n",
        "print(circle.area())\n"
      ],
      "metadata": {
        "colab": {
          "base_uri": "https://localhost:8080/"
        },
        "id": "pXBgIjfrFyPo",
        "outputId": "6dd70302-c288-407a-e98f-3afe062b0f34"
      },
      "execution_count": 2,
      "outputs": [
        {
          "output_type": "stream",
          "name": "stdout",
          "text": [
            "The area of a shape is not defined\n",
            "The area of a square is 25\n",
            "The area of a circle is 28.259999999999998\n"
          ]
        }
      ]
    }
  ]
}