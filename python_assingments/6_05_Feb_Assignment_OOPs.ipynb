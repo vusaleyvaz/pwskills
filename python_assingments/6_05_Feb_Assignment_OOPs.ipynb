{
  "nbformat": 4,
  "nbformat_minor": 0,
  "metadata": {
    "colab": {
      "provenance": []
    },
    "kernelspec": {
      "name": "python3",
      "display_name": "Python 3"
    },
    "language_info": {
      "name": "python"
    }
  },
  "cells": [
    {
      "cell_type": "markdown",
      "source": [
        "### Question 1\n",
        "Explain Class and Object with respect to Object-Oriented Programming. Give a suitable example."
      ],
      "metadata": {
        "id": "PbCo68lI035J"
      }
    },
    {
      "cell_type": "markdown",
      "source": [
        "Q1 Answer:\n",
        "\n",
        "**Class:** A class is a blueprint or template for creating objects. It provides the definition of basic attributes and functions or methods which are common to all objects of a certain kind.\n",
        "\n",
        "**Object:** An object is an instance of a class. When a class is defined, no memory is allocated but when it is instantiated (i.e., an object is created) memory is allocated.\n",
        "\n",
        "For example, consider a class `Car`. A class is like a blueprint for a car, it defines the properties (like color, model, brand) and methods (like drive, brake, park) that a car should have."
      ],
      "metadata": {
        "id": "OK083BY8_Gpz"
      }
    },
    {
      "cell_type": "code",
      "execution_count": null,
      "metadata": {
        "id": "PawfkSoH0oGY"
      },
      "outputs": [],
      "source": [
        "class Car:\n",
        "    def __init__(self, color, brand, model):\n",
        "        self.color = color\n",
        "        self.brand = brand\n",
        "        self.model = model\n",
        "\n",
        "    def drive(self):\n",
        "        print(f\"The {self.color} {self.brand} {self.model} is now driving.\")\n",
        "\n",
        "    def park(self):\n",
        "        print(f\"The {self.color} {self.brand} {self.model} is now parked.\")"
      ]
    },
    {
      "cell_type": "markdown",
      "source": [
        "we can create objects of this class. Each object will represent a specific car."
      ],
      "metadata": {
        "id": "NAaN1d-3BVV6"
      }
    },
    {
      "cell_type": "code",
      "source": [
        "# creating objects of the Car class\n",
        "car1 = Car('Red', 'Toyota', 'Corolla')\n",
        "car2 = Car('Blue', 'BMW', 'X5')\n",
        "\n",
        "# calling methods on the objects\n",
        "car1.drive()\n",
        "car2.park()"
      ],
      "metadata": {
        "colab": {
          "base_uri": "https://localhost:8080/"
        },
        "id": "r9A-tOinBXN8",
        "outputId": "c3152de3-a55a-4b79-8bd8-47511b784887"
      },
      "execution_count": null,
      "outputs": [
        {
          "output_type": "stream",
          "name": "stdout",
          "text": [
            "The Red Toyota Corolla is now driving.\n",
            "The Blue BMW X5 is now parked.\n"
          ]
        }
      ]
    },
    {
      "cell_type": "markdown",
      "source": [
        "### Question 2\n",
        "Name the four pillars of OOPs."
      ],
      "metadata": {
        "id": "EA6sig-0Bk6d"
      }
    },
    {
      "cell_type": "markdown",
      "source": [
        "Q2 Answer:"
      ],
      "metadata": {
        "id": "kjM69JinbnaZ"
      }
    },
    {
      "cell_type": "markdown",
      "source": [
        "Q2 Answer:\n",
        "\n",
        "The four pillars of object-oriented programming (OOP) are:\n",
        "\n",
        "* Polymorphism\n",
        "\n",
        "* Encapsulation\n",
        "\n",
        "* Inheritance\n",
        "\n",
        "* Abstraction\n",
        "\n",
        "**Polymorphism** is the ability of an object to behave in different ways depending on the context. This allows for more flexible and efficient code.\n",
        "\n",
        "**Encapsulation** is the practice of grouping together data and methods that are related to each other. This makes the code more modular and easier to understand.\n",
        "\n",
        "**Inheritance** is the ability of an object to inherit the properties and methods of another object. This allows new objects to be created quickly and easily, and it also helps to reduce code duplication.\n",
        "\n",
        "**Abstraction** is the process of hiding the implementation details of an object and exposing only the essential features. This allows the user of the object to focus on what the object does, rather than how it does it.\n",
        "\n",
        "\n",
        "\n"
      ],
      "metadata": {
        "id": "jwQ0vJvWCgNX"
      }
    },
    {
      "cell_type": "markdown",
      "source": [
        "### Question 3\n",
        "\n",
        "Explain why the `__init__()` function is used. Give a suitable example."
      ],
      "metadata": {
        "id": "JRLK9u8eEIxV"
      }
    },
    {
      "cell_type": "markdown",
      "source": [
        "Q3 Answer:"
      ],
      "metadata": {
        "id": "XiECvBG5dpP-"
      }
    },
    {
      "cell_type": "markdown",
      "source": [
        "The `__init__()` function is used in Python to initialize the attributes of an object. It is called automatically when an object is created from a class. The `__init__()` method can be used to assign default values to attributes, or to perform other tasks that need to be done when an object is created.\n",
        "\n",
        "Simple example:"
      ],
      "metadata": {
        "id": "oQC77nzKcyKj"
      }
    },
    {
      "cell_type": "code",
      "source": [
        "class Car:\n",
        "    def __init__(self, make, model, year):\n",
        "        self.make = make\n",
        "        self.model = model\n",
        "        self.year = year\n",
        "\n",
        "    def print_info(self):\n",
        "        print(\"Make:\", self.make)\n",
        "        print(\"Model:\", self.model)\n",
        "        print(\"Year:\", self.year)\n",
        "\n",
        "#create a new Car object\n",
        "car = Car(\"Tesla\", \"Model S\", 2023)\n",
        "#The car object now has the attributes make, model, and year\n",
        "\n",
        "#use the print_info() method to print the car's information\n",
        "car.print_info()"
      ],
      "metadata": {
        "colab": {
          "base_uri": "https://localhost:8080/"
        },
        "id": "_5ejY8gxCfG8",
        "outputId": "e80ac73a-d459-41c4-a6c5-6bacb30713ed"
      },
      "execution_count": null,
      "outputs": [
        {
          "output_type": "stream",
          "name": "stdout",
          "text": [
            "Make: Tesla\n",
            "Model: Model S\n",
            "Year: 2023\n"
          ]
        }
      ]
    },
    {
      "cell_type": "markdown",
      "source": [
        "### Question 4\n",
        "\n",
        "Why self is used in OOPs?"
      ],
      "metadata": {
        "id": "GwW4choTfm3v"
      }
    },
    {
      "cell_type": "markdown",
      "source": [
        "Q4 Answer:\n",
        "\n",
        "The `self` keyword is used to refer to the current instance of the class. It is used in methods to access the attributes and methods of the class. The `self` parameter is the way to access the instance inside the method. This is why all instance methods need to have `self` as their first parameter."
      ],
      "metadata": {
        "id": "yFut_ndLfrQA"
      }
    },
    {
      "cell_type": "markdown",
      "source": [
        "### Question 5\n",
        "\n",
        "What is inheritance? Give an example for each type of inheritance."
      ],
      "metadata": {
        "id": "ykMCR09aq_92"
      }
    },
    {
      "cell_type": "markdown",
      "source": [
        "Q5 Answer:\n",
        "\n",
        "Inheritance is a mechanism in OOP that allows one class to inherit the properties and methods of another class. This can be used to reduce code duplication and make code more reusable.\n",
        "\n",
        "There are 4 types of inheritance:\n",
        "\n",
        "1. **Single Inheritance:** In single inheritance, a class inherits from only one parent class."
      ],
      "metadata": {
        "id": "IytkOVvIvcFa"
      }
    },
    {
      "cell_type": "code",
      "source": [
        "class Flower:\n",
        "    def __init__(self, name):\n",
        "        self.name = name\n",
        "\n",
        "    def display_name(self):\n",
        "        print(f\"The flower name is {self.name}.\")\n",
        "\n",
        "\n",
        "class Rose(Flower):\n",
        "    def __init__(self, name, color):\n",
        "        super().__init__(name)\n",
        "        self.color = color\n",
        "\n",
        "    def bloom(self):\n",
        "        print(f\"The {self.color} rose is blooming.\")\n",
        "\n",
        "\n",
        "# Creating an object of the Rose class\n",
        "rose = Rose('Rose', 'Red')\n",
        "rose.display_name()   # Accessing the display_name method from the parent class\n",
        "rose.bloom()          # Accessing the bloom method from the child class"
      ],
      "metadata": {
        "id": "lupSNBlreQ91",
        "colab": {
          "base_uri": "https://localhost:8080/"
        },
        "outputId": "fb562339-7421-41d2-c45a-5fb7148ce734"
      },
      "execution_count": 3,
      "outputs": [
        {
          "output_type": "stream",
          "name": "stdout",
          "text": [
            "The flower name is Rose.\n",
            "The Red rose is blooming.\n"
          ]
        }
      ]
    },
    {
      "cell_type": "markdown",
      "source": [
        "2. **Multiple Inheritance:** Multiple inheritance is a feature in which a class can inherit from multiple parent classes."
      ],
      "metadata": {
        "id": "awLBM2kRw0vs"
      }
    },
    {
      "cell_type": "code",
      "source": [
        "class Fragrant:\n",
        "    def __init__(self, fragrance):\n",
        "        self.fragrance = fragrance\n",
        "\n",
        "    def display_fragrance(self):\n",
        "        print(f\"The flower has a {self.fragrance} fragrance.\")\n",
        "\n",
        "\n",
        "class Colorful:\n",
        "    def __init__(self, colors):\n",
        "        self.colors = colors\n",
        "\n",
        "    def display_colors(self):\n",
        "        print(f\"The flower has {self.colors} colors.\")\n",
        "\n",
        "\n",
        "class Orchid(Fragrant, Colorful):\n",
        "    def __init__(self, fragrance, colors):\n",
        "        Fragrant.__init__(self, fragrance)\n",
        "        Colorful.__init__(self, colors)\n",
        "\n",
        "\n",
        "# Creating an object of the Orchid class\n",
        "orchid = Orchid('sweet', 5)\n",
        "orchid.display_fragrance()    # Accessing the display_fragrance method from the Fragrant class\n",
        "orchid.display_colors()       # Accessing the display_colors method from the Colorful class\n"
      ],
      "metadata": {
        "colab": {
          "base_uri": "https://localhost:8080/"
        },
        "id": "inFjMsHfxDck",
        "outputId": "7cc705fc-017d-4746-bbb4-a496e9e18484"
      },
      "execution_count": 4,
      "outputs": [
        {
          "output_type": "stream",
          "name": "stdout",
          "text": [
            "The flower has a sweet fragrance.\n",
            "The flower has 5 colors.\n"
          ]
        }
      ]
    },
    {
      "cell_type": "markdown",
      "source": [
        "3. **Multilevel Inheritance:** In multilevel inheritance, a class is derived from a child class, which itself is derived from another class."
      ],
      "metadata": {
        "id": "atV-GP8dxLYN"
      }
    },
    {
      "cell_type": "code",
      "source": [
        "class Flower:\n",
        "    def __init__(self, name):\n",
        "        self.name = name\n",
        "\n",
        "    def display_name(self):\n",
        "        print(f\"The flower name is {self.name}.\")\n",
        "\n",
        "\n",
        "class Rose(Flower):\n",
        "    def __init__(self, name, color):\n",
        "        super().__init__(name)\n",
        "        self.color = color\n",
        "\n",
        "    def bloom(self):\n",
        "        print(f\"The {self.color} rose is blooming.\")\n",
        "\n",
        "\n",
        "class RedRose(Rose):\n",
        "    def __init__(self, name):\n",
        "        super().__init__(name, 'Red')\n",
        "\n",
        "    def scent(self):\n",
        "        print(f\"The red rose has a sweet scent.\")\n",
        "\n",
        "\n",
        "# Creating an object of the RedRose class\n",
        "red_rose = RedRose('Rose')\n",
        "red_rose.display_name()   # Accessing the display_name method from the Flower class\n",
        "red_rose.bloom()          # Accessing the bloom method from the Rose class\n",
        "red_rose.scent()          # Accessing the scent method from the RedRose class"
      ],
      "metadata": {
        "colab": {
          "base_uri": "https://localhost:8080/"
        },
        "id": "-y0kQf0ExSUi",
        "outputId": "95bccdfb-0174-46f5-a0d5-b30f6d6b64da"
      },
      "execution_count": 5,
      "outputs": [
        {
          "output_type": "stream",
          "name": "stdout",
          "text": [
            "The flower name is Rose.\n",
            "The Red rose is blooming.\n",
            "The red rose has a sweet scent.\n"
          ]
        }
      ]
    },
    {
      "cell_type": "markdown",
      "source": [
        "4. **Hierarchical Inheritance:** Hierarchical inheritance involves multiple derived classes inheriting from a single base class."
      ],
      "metadata": {
        "id": "ev_HRnaqxdmy"
      }
    },
    {
      "cell_type": "code",
      "source": [
        "class Flower:\n",
        "    def __init__(self, name):\n",
        "        self.name = name\n",
        "\n",
        "    def display_name(self):\n",
        "        print(f\"The flower name is {self.name}.\")\n",
        "\n",
        "\n",
        "class Rose(Flower):\n",
        "    def __init__(self, name, color):\n",
        "        super().__init__(name)\n",
        "        self.color = color\n",
        "\n",
        "    def bloom(self):\n",
        "        print(f\"The {self.color} rose is blooming.\")\n",
        "\n",
        "\n",
        "class Lily(Flower):\n",
        "    def __init__(self, name, color):\n",
        "        super().__init__(name)\n",
        "        self.color = color\n",
        "\n",
        "    def fragrance(self):\n",
        "        print(f\"The {self.color} lily has a pleasant fragrance.\")\n",
        "\n",
        "\n",
        "# Creating objects of the Rose and Lily classes\n",
        "rose = Rose('Rose', 'Red')\n",
        "lily = Lily('Lily', 'White')\n",
        "rose.display_name()   # Accessing the display_name method from the Flower"
      ],
      "metadata": {
        "colab": {
          "base_uri": "https://localhost:8080/"
        },
        "id": "hDE6sMEMxm_t",
        "outputId": "2bc07f19-97f4-42fc-f263-4cbbd8cef976"
      },
      "execution_count": 6,
      "outputs": [
        {
          "output_type": "stream",
          "name": "stdout",
          "text": [
            "The flower name is Rose.\n"
          ]
        }
      ]
    }
  ]
}