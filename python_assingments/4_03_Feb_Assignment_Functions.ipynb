{
  "nbformat": 4,
  "nbformat_minor": 0,
  "metadata": {
    "colab": {
      "provenance": []
    },
    "kernelspec": {
      "name": "python3",
      "display_name": "Python 3"
    },
    "language_info": {
      "name": "python"
    }
  },
  "cells": [
    {
      "cell_type": "markdown",
      "source": [
        "### Question 1\n",
        "Which keyword is used to create a function? Create a function to return a list of odd numbers in the range of 1 to 25."
      ],
      "metadata": {
        "id": "p5OoRDQqQdAI"
      }
    },
    {
      "cell_type": "markdown",
      "source": [
        "Q1 Answer:\n",
        "\n",
        "The keyword used to create a function in Python is `def`.\n",
        "\n",
        "Below is a function that returns a list of odd numbers in the range of 1 to 25:"
      ],
      "metadata": {
        "id": "7IvwOeZvSFFr"
      }
    },
    {
      "cell_type": "code",
      "source": [
        "def odd_numbers():\n",
        "    odds = []\n",
        "    for i in range(1, 26):\n",
        "        if i % 2 == 1:\n",
        "            odds.append(i)\n",
        "    return odds\n",
        "\n",
        "odd_numbers()"
      ],
      "metadata": {
        "colab": {
          "base_uri": "https://localhost:8080/"
        },
        "id": "sXjZU-_fRz3X",
        "outputId": "75b2e999-d5d6-4937-ad09-766f31167ace"
      },
      "execution_count": 3,
      "outputs": [
        {
          "output_type": "execute_result",
          "data": {
            "text/plain": [
              "[1, 3, 5, 7, 9, 11, 13, 15, 17, 19, 21, 23, 25]"
            ]
          },
          "metadata": {},
          "execution_count": 3
        }
      ]
    },
    {
      "cell_type": "markdown",
      "source": [
        "### Question 2\n",
        "\n",
        "Why \\*args and \\*\\*kwargs is used in some functions? Create a function each for \\*args and \\*\\*kwargs to\n",
        "demonstrate their use."
      ],
      "metadata": {
        "id": "_THUoxPBQp5l"
      }
    },
    {
      "cell_type": "markdown",
      "source": [
        "Q2 Answer:\n",
        "\n",
        "In Python, \\*args and \\*\\*kwargs are used in function definitions to allow the function to accept a variable number of arguments.\n",
        "*   \\*args is used to pass a variable number of non-keyword arguments to a function. \n",
        "*   \\*\\*kwargs is used to pass a variable number of keywor arguments to a function.\n",
        "\n",
        "Below is an example for the function that accepts \\*args :\n"
      ],
      "metadata": {
        "id": "Qzwly4-GS5BP"
      }
    },
    {
      "cell_type": "code",
      "source": [
        "def sum_all(*args):\n",
        "    total = 0\n",
        "    for arg in args:\n",
        "        total += arg\n",
        "    return total\n",
        "\n",
        "sum_all(5,7,9,11)"
      ],
      "metadata": {
        "colab": {
          "base_uri": "https://localhost:8080/"
        },
        "id": "2baB2KMWUMLv",
        "outputId": "d4db1979-0d54-4c4c-9071-46447e50f31f"
      },
      "execution_count": 4,
      "outputs": [
        {
          "output_type": "execute_result",
          "data": {
            "text/plain": [
              "32"
            ]
          },
          "metadata": {},
          "execution_count": 4
        }
      ]
    },
    {
      "cell_type": "markdown",
      "source": [
        "Below is an example for the function that accepts \\*\\*kwargs:"
      ],
      "metadata": {
        "id": "zXrixhajUTxL"
      }
    },
    {
      "cell_type": "code",
      "source": [
        "def print_kwargs(**kwargs):\n",
        "    for key, value in kwargs.items():\n",
        "        print(f\"{key} = {value}\")\n",
        "\n",
        "print_kwargs(name='Vusal', age=35, city='Baku')"
      ],
      "metadata": {
        "colab": {
          "base_uri": "https://localhost:8080/"
        },
        "id": "PikU95E1Umx_",
        "outputId": "ac62983f-ca29-457e-a308-e89357911acf"
      },
      "execution_count": 5,
      "outputs": [
        {
          "output_type": "stream",
          "name": "stdout",
          "text": [
            "name = Vusal\n",
            "age = 35\n",
            "city = Baku\n"
          ]
        }
      ]
    },
    {
      "cell_type": "markdown",
      "source": [
        "### Question 3\n",
        "What is an iterator in python? Name the method used to initialise the iterator object and the method\n",
        "used for iteration. Use these methods to print the first five elements of the given list [2, 4, 6, 8, 10, 12, 14, 16,\n",
        "18, 20]."
      ],
      "metadata": {
        "id": "qJ3HeHs-Qp3T"
      }
    },
    {
      "cell_type": "markdown",
      "source": [
        "Q3 Answer:\n",
        "\n",
        "An iterator is an object that can be iterated upon, which means you can traverse through all the values. Iterators are used to represent sequences and streams of data.\n",
        "\n",
        "* `__iter__()` method is used to initialise the iterator object, and it returns the iterator object itself\n",
        "* `__next__()` method is used to iterate over the elements of the sequence, and it returns the next element in the sequence."
      ],
      "metadata": {
        "id": "pwcUI5_LVnmY"
      }
    },
    {
      "cell_type": "code",
      "source": [
        "# create an iterator object for the list\n",
        "my_list = [2, 4, 6, 8, 10, 12, 14, 16, 18, 20]\n",
        "my_iter = iter(my_list)\n",
        "\n",
        "# iterate over the first five elements using the next() function\n",
        "for i in range(5):\n",
        "    print(next(my_iter))"
      ],
      "metadata": {
        "colab": {
          "base_uri": "https://localhost:8080/"
        },
        "id": "YzBYT-1iWCz5",
        "outputId": "42e16348-5b27-444f-e513-ba1018729af1"
      },
      "execution_count": 6,
      "outputs": [
        {
          "output_type": "stream",
          "name": "stdout",
          "text": [
            "2\n",
            "4\n",
            "6\n",
            "8\n",
            "10\n"
          ]
        }
      ]
    },
    {
      "cell_type": "markdown",
      "source": [
        "###  Question 4\n",
        "What is a generator function in python? Why yield keyword is used? Give an example of a generator\n",
        "function."
      ],
      "metadata": {
        "id": "qVap7stGQp0K"
      }
    },
    {
      "cell_type": "markdown",
      "source": [
        "Q4 Answer:\n",
        "\n",
        "Generator function is a special type of function that returns an iterator object that can be iterated over using a `for` loop. A generator function is defined like a normal function, but instead of using the `return` keyword to return a value, it uses the `yield` keyword.\n",
        "\n",
        "The yield keyword is used to generate a sequence of values one at a time, and it allows the generator function to \"pause\" and \"resume\" execution, picking up where it left off on the next call to `next()`.\n",
        "\n",
        "The benefit of using a generator function over a regular function is that it allows you to generate a sequence of values without having to store them all in memory at once. This makes generator functions much more memory efficient for large datasets or infinite sequences.\n",
        "\n",
        "Here's an example of a generator function that generates a sequence of even numbers up to a specified limit:"
      ],
      "metadata": {
        "id": "DzpUzhw4azw_"
      }
    },
    {
      "cell_type": "code",
      "source": [
        "def even_numbers(limit):\n",
        "    n = 0\n",
        "    while n < limit:\n",
        "        yield n\n",
        "        n += 2\n",
        "\n",
        "for num in even_numbers(10):\n",
        "    print(num)"
      ],
      "metadata": {
        "colab": {
          "base_uri": "https://localhost:8080/"
        },
        "id": "qk4HwtU8bdog",
        "outputId": "4be9813b-c846-4577-f55e-08b02cd13e7a"
      },
      "execution_count": 7,
      "outputs": [
        {
          "output_type": "stream",
          "name": "stdout",
          "text": [
            "0\n",
            "2\n",
            "4\n",
            "6\n",
            "8\n"
          ]
        }
      ]
    },
    {
      "cell_type": "markdown",
      "source": [
        "### Question 5\n",
        "Create a generator function for prime numbers less than 1000. Use the `next()` method to print the\n",
        "first 20 prime numbers."
      ],
      "metadata": {
        "id": "_k1ZtnApRGRJ"
      }
    },
    {
      "cell_type": "markdown",
      "source": [
        "Q5 Answer:"
      ],
      "metadata": {
        "id": "K2IA6EoQcXh4"
      }
    },
    {
      "cell_type": "code",
      "source": [
        "def prime_numbers():\n",
        "    # iterate over numbers from 2 to 1000\n",
        "    for num in range(2, 1000):\n",
        "        # check if num is prime\n",
        "        for i in range(2, num):\n",
        "            if num % i == 0:\n",
        "                break\n",
        "        else:\n",
        "            # num is prime, yield it\n",
        "            yield num\n",
        "\n",
        "# create the prime_numbers generator object\n",
        "prime_gen = prime_numbers()\n",
        "\n",
        "# print the first 20 prime numbers\n",
        "for i in range(20):\n",
        "    print(next(prime_gen))"
      ],
      "metadata": {
        "colab": {
          "base_uri": "https://localhost:8080/"
        },
        "id": "1K3BfNrxcFK-",
        "outputId": "9bc283eb-2a75-4437-e4cf-9fc682d7cb49"
      },
      "execution_count": 8,
      "outputs": [
        {
          "output_type": "stream",
          "name": "stdout",
          "text": [
            "2\n",
            "3\n",
            "5\n",
            "7\n",
            "11\n",
            "13\n",
            "17\n",
            "19\n",
            "23\n",
            "29\n",
            "31\n",
            "37\n",
            "41\n",
            "43\n",
            "47\n",
            "53\n",
            "59\n",
            "61\n",
            "67\n",
            "71\n"
          ]
        }
      ]
    }
  ]
}