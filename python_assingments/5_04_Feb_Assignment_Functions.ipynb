{
  "nbformat": 4,
  "nbformat_minor": 0,
  "metadata": {
    "colab": {
      "provenance": []
    },
    "kernelspec": {
      "name": "python3",
      "display_name": "Python 3"
    },
    "language_info": {
      "name": "python"
    }
  },
  "cells": [
    {
      "cell_type": "markdown",
      "source": [
        "### Question 1\n",
        "Create a python program to sort the given list of tuples based on integer value using a lambda function.\n",
        "\n",
        "`[('Sachin Tendulkar', 34357), ('Ricky Ponting', 27483), ('Jack Kallis', 25534), ('Virat Kohli', 24936)]`"
      ],
      "metadata": {
        "id": "hEOIhk9sfFNW"
      }
    },
    {
      "cell_type": "markdown",
      "source": [
        "Q1 Answer:"
      ],
      "metadata": {
        "id": "ojCEBxnwfQ4r"
      }
    },
    {
      "cell_type": "code",
      "source": [
        "my_list = [('Sachin Tendulkar', 34357), ('Ricky Ponting', 27483), ('Jack Kallis', 25534), ('Virat Kohli', 24936)]\n",
        "\n",
        "sorted_list = sorted(my_list, key=lambda x: x[1])\n",
        "\n",
        "print(sorted_list)"
      ],
      "metadata": {
        "colab": {
          "base_uri": "https://localhost:8080/"
        },
        "id": "BC_Yp-FTfZ1x",
        "outputId": "becace74-30f0-41ba-eae7-b75c969b0b37"
      },
      "execution_count": 1,
      "outputs": [
        {
          "output_type": "stream",
          "name": "stdout",
          "text": [
            "[('Virat Kohli', 24936), ('Jack Kallis', 25534), ('Ricky Ponting', 27483), ('Sachin Tendulkar', 34357)]\n"
          ]
        }
      ]
    },
    {
      "cell_type": "markdown",
      "source": [
        "### Question 2\n",
        "Write a Python Program to find the squares of all the numbers in the given list of integers using lambda and map functions. `[1, 2, 3, 4, 5, 6, 7, 8, 9, 10]`"
      ],
      "metadata": {
        "id": "P4sy9ZFWgaBx"
      }
    },
    {
      "cell_type": "markdown",
      "source": [
        "Q2 Answer:"
      ],
      "metadata": {
        "id": "KIBZz1Yggo1L"
      }
    },
    {
      "cell_type": "code",
      "source": [
        "numbers = [1, 2, 3, 4, 5, 6, 7, 8, 9, 10]\n",
        "\n",
        "squared_numbers = list(map(lambda x: x**2, numbers))\n",
        "\n",
        "print(squared_numbers)"
      ],
      "metadata": {
        "colab": {
          "base_uri": "https://localhost:8080/"
        },
        "id": "bWsZUuqnf7aF",
        "outputId": "2f7d650f-6e03-4e69-b176-8cf68658843a"
      },
      "execution_count": 3,
      "outputs": [
        {
          "output_type": "stream",
          "name": "stdout",
          "text": [
            "[1, 4, 9, 16, 25, 36, 49, 64, 81, 100]\n"
          ]
        }
      ]
    },
    {
      "cell_type": "markdown",
      "source": [
        "### Question 3\n",
        "Write a python program to convert the given list of integers into a tuple of strings. Use map and lambda functions\n",
        "\n",
        "Given String: `[1, 2, 3, 4, 5, 6, 7, 8, 9, 10]`\n",
        "\n",
        "Expected output: `('1', '2', '3', '4', '5', '6', '7', '8', '9', '10')`"
      ],
      "metadata": {
        "id": "qNUvpy93hQrq"
      }
    },
    {
      "cell_type": "markdown",
      "source": [
        "Q3 Answer:"
      ],
      "metadata": {
        "id": "RsTLeqt1hjn7"
      }
    },
    {
      "cell_type": "code",
      "source": [
        "numbers = [1, 2, 3, 4, 5, 6, 7, 8, 9, 10]\n",
        "\n",
        "string_numbers = tuple(map(lambda x: str(x), numbers))\n",
        "\n",
        "print(string_numbers)"
      ],
      "metadata": {
        "colab": {
          "base_uri": "https://localhost:8080/"
        },
        "id": "cM8wL3SQg1TT",
        "outputId": "f1f07960-1abe-4f32-d2d0-02ba18f4ab7a"
      },
      "execution_count": 6,
      "outputs": [
        {
          "output_type": "stream",
          "name": "stdout",
          "text": [
            "('1', '2', '3', '4', '5', '6', '7', '8', '9', '10')\n"
          ]
        }
      ]
    },
    {
      "cell_type": "markdown",
      "source": [
        "### Question 4\n",
        "Write a python program using reduce function to compute the product of a list containing numbers from 1 to 25."
      ],
      "metadata": {
        "id": "x2J7jnElhoLk"
      }
    },
    {
      "cell_type": "markdown",
      "source": [
        "Q4 Answer:"
      ],
      "metadata": {
        "id": "_KscRQTvj23s"
      }
    },
    {
      "cell_type": "code",
      "source": [
        "# importing functools for reduce()\n",
        "import functools\n",
        " \n",
        "#using reduce to compute the product of list contaning numbers from 1 to 25\n",
        "print(functools.reduce(lambda a, b: a+b, list(range(1,26))))\n"
      ],
      "metadata": {
        "colab": {
          "base_uri": "https://localhost:8080/"
        },
        "id": "tB9x3br1jLvt",
        "outputId": "93feb841-36ca-4131-d909-7a98e58e0a6a"
      },
      "execution_count": 10,
      "outputs": [
        {
          "output_type": "stream",
          "name": "stdout",
          "text": [
            "325\n"
          ]
        }
      ]
    },
    {
      "cell_type": "markdown",
      "source": [
        "### Question 5\n",
        "Write a python program to filter the numbers in a given list that are divisible by 2 and 3 using the filter function."
      ],
      "metadata": {
        "id": "E7piQDNLj2Xq"
      }
    },
    {
      "cell_type": "markdown",
      "source": [
        "Q5 Answer:"
      ],
      "metadata": {
        "id": "Be9O8ByWmOUb"
      }
    },
    {
      "cell_type": "code",
      "source": [
        "numbers = [2, 3, 6, 9, 27, 60, 90, 120, 55, 46]\n",
        " \n",
        "#using filter function to filter the numbers in a given list that are divisible by 2 and 3\n",
        "filtered = list(filter(lambda x: x%2==0 and x%3==0, numbers))\n",
        "\n",
        "print(filtered)"
      ],
      "metadata": {
        "colab": {
          "base_uri": "https://localhost:8080/"
        },
        "id": "rzsQb1rtkQvE",
        "outputId": "709e8a46-1c8f-4bb8-b425-e90feb8ff006"
      },
      "execution_count": 13,
      "outputs": [
        {
          "output_type": "stream",
          "name": "stdout",
          "text": [
            "[6, 60, 90, 120]\n"
          ]
        }
      ]
    },
    {
      "cell_type": "markdown",
      "source": [
        "### Question 6\n",
        "Write a python program to find palindromes in the given list of strings using lambda and filter function.\n",
        "\n",
        "`['python', 'php', 'aba', 'radar', 'level']`"
      ],
      "metadata": {
        "id": "UJvsRDQJmBva"
      }
    },
    {
      "cell_type": "markdown",
      "source": [
        "Q6 Answer:"
      ],
      "metadata": {
        "id": "KzCSGHjPm9cD"
      }
    },
    {
      "cell_type": "code",
      "source": [
        "words = ['python', 'php', 'aba', 'radar', 'level']\n",
        "\n",
        "#using filter function to filter the palindrome strings\n",
        "palindrome_words = list(filter(lambda s: s == s[::-1], words))\n",
        "\n",
        "print(palindrome_words)"
      ],
      "metadata": {
        "colab": {
          "base_uri": "https://localhost:8080/"
        },
        "id": "1b7Wg2YQmehD",
        "outputId": "fa3d260e-0864-4f10-a87b-dd0a7ad7a5e5"
      },
      "execution_count": 16,
      "outputs": [
        {
          "output_type": "stream",
          "name": "stdout",
          "text": [
            "['php', 'aba', 'radar', 'level']\n"
          ]
        }
      ]
    }
  ]
}
