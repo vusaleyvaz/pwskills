{
  "nbformat": 4,
  "nbformat_minor": 0,
  "metadata": {
    "colab": {
      "provenance": []
    },
    "kernelspec": {
      "name": "python3",
      "display_name": "Python 3"
    },
    "language_info": {
      "name": "python"
    }
  },
  "cells": [
    {
      "cell_type": "markdown",
      "source": [
        "### Question 1\n",
        "\n",
        "Create a function which will take a list as an argument and return the product of all the numbers after creating a flat list.\n",
        "\n",
        "Use the below-given list as an argument for your function.\n",
        "\n",
        "`list1 = [1,2,3,4, [44,55,66, True], False, (34,56,78,89,34), {1,2,3,3,2,1}, {1:34, \"key2\": [55, 67, 78, 89], 4: (45, 22, 61, 34)}, [56, 'data science'],'Machine Learning']`\n",
        "\n",
        "Note: you must extract numeric keys and values of the dictionary also."
      ],
      "metadata": {
        "id": "GYtGvMmp32gI"
      }
    },
    {
      "cell_type": "markdown",
      "source": [
        "Q1 Answer:"
      ],
      "metadata": {
        "id": "xkGl0j5rrlni"
      }
    },
    {
      "cell_type": "code",
      "source": [
        "def product_of_numbers(lst):\n",
        "    flat_list = []\n",
        "    \n",
        "    def extract_numbers(obj):\n",
        "        if isinstance(obj, bool):\n",
        "            pass\n",
        "        elif isinstance(obj, (int, float)):\n",
        "            flat_list.append(obj)\n",
        "        elif isinstance(obj, (list, tuple, set)):\n",
        "            for item in obj:\n",
        "                extract_numbers(item)       \n",
        "        elif isinstance(obj, dict):\n",
        "            for value in obj.values():\n",
        "                extract_numbers(value)\n",
        "            for key in obj.keys():\n",
        "                extract_numbers(key)\n",
        "    \n",
        "    extract_numbers(lst)\n",
        "    \n",
        "    product = 1\n",
        "\n",
        "    for num in flat_list:\n",
        "        product *= num\n",
        "\n",
        "    return product"
      ],
      "metadata": {
        "id": "Sp-OyQSR7ogB"
      },
      "execution_count": 1,
      "outputs": []
    },
    {
      "cell_type": "code",
      "source": [
        "list1 = [1,2,3,4, [44,55,66, True], False, (34,56,78,89,34), {1,2,3,3,2,1}, {1:34, \"key2\": [55, 67, 78, 89], 4: (45, 22, 61, 34)}, [56, 'data science'], 'Machine Learning']\n",
        "result = product_of_numbers(list1)\n",
        "print(result)"
      ],
      "metadata": {
        "colab": {
          "base_uri": "https://localhost:8080/"
        },
        "id": "x9cvPS4bBtyH",
        "outputId": "461a9684-d231-4a95-cfe5-3b70eaa11d98"
      },
      "execution_count": 2,
      "outputs": [
        {
          "output_type": "stream",
          "name": "stdout",
          "text": [
            "4134711838987085478833841242112000\n"
          ]
        }
      ]
    },
    {
      "cell_type": "markdown",
      "source": [
        "### Question 2\n",
        "\n",
        "Write a python program for encrypting a message sent to you by your friend. The logic of encryption should be such that, for a the output should be z. For b, the output should be y. For c, the output should be x respectively. Also, the whitespace should be replaced with a dollar sign. Keep the punctuation\n",
        "marks unchanged.\n",
        "\n",
        "Input Sentence: I want to become a Data Scientist.\n",
        "\n",
        "Encrypt the above input sentence using the program you just created.\n",
        "\n",
        "Note: Convert the given input sentence into lowercase before encrypting. The final output should be lowercase."
      ],
      "metadata": {
        "id": "3TVsX1uosQJG"
      }
    },
    {
      "cell_type": "markdown",
      "source": [
        "Q2 Answer:"
      ],
      "metadata": {
        "id": "ucAKDtcovL9_"
      }
    },
    {
      "cell_type": "code",
      "source": [
        "def encrypt_message(message):\n",
        "    encrypted_message = \"\"\n",
        "    for char in message.lower():\n",
        "        if char.isalpha():\n",
        "            char = chr(ord('a') + ord('z') - ord(char))\n",
        "        elif char.isspace():\n",
        "            char = '$'\n",
        "        encrypted_message += char\n",
        "    return encrypted_message"
      ],
      "metadata": {
        "id": "fn6M2O33tTPv"
      },
      "execution_count": 3,
      "outputs": []
    },
    {
      "cell_type": "code",
      "source": [
        "input_sentence = \"I want to become a Data Scientist.\"\n",
        "\n",
        "encrypted_sentence = encrypt_message(input_sentence.lower())\n",
        "print(encrypted_sentence)"
      ],
      "metadata": {
        "colab": {
          "base_uri": "https://localhost:8080/"
        },
        "id": "xQi0YEWfuSvZ",
        "outputId": "1bab8784-5bce-4a95-d1e1-60754e4b9398"
      },
      "execution_count": 4,
      "outputs": [
        {
          "output_type": "stream",
          "name": "stdout",
          "text": [
            "r$dzmg$gl$yvxlnv$z$wzgz$hxrvmgrhg.\n"
          ]
        }
      ]
    }
  ]
}